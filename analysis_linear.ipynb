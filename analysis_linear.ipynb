{
 "cells": [
  {
   "cell_type": "markdown",
   "metadata": {},
   "source": [
    "# **MOVIE REVIEWS SENTIMENT ANALYSIS**\n",
    "---\n",
    "---"
   ]
  },
  {
   "cell_type": "markdown",
   "metadata": {},
   "source": [
    "---\n",
    "### **IMPORT LIBRARIES AND OTHER DEPENDENCIES**\n",
    "---"
   ]
  },
  {
   "cell_type": "code",
   "execution_count": 1,
   "metadata": {},
   "outputs": [],
   "source": [
    "import pandas as pd\n",
    "import numpy as np\n",
    "import re\n",
    "import nltk\n",
    "import matplotlib.pyplot as plt\n",
    "import spacy\n",
    "\n",
    "from nltk.corpus import stopwords\n",
    "from sklearn.feature_extraction.text import TfidfVectorizer\n",
    "from sklearn.model_selection import train_test_split\n",
    "from sklearn.svm import LinearSVC\n",
    "from sklearn.svm import SVC\n",
    "from sklearn.metrics import accuracy_score, classification_report\n",
    "from sklearn.model_selection import GridSearchCV"
   ]
  },
  {
   "cell_type": "markdown",
   "metadata": {},
   "source": [
    "---\n",
    "---\n",
    "\n",
    "### **DATA WRANGLING** \n",
    "---\n",
    "---"
   ]
  },
  {
   "cell_type": "markdown",
   "metadata": {},
   "source": [
    "---\n",
    "### DATA GATHERING\n",
    "---"
   ]
  },
  {
   "cell_type": "code",
   "execution_count": 2,
   "metadata": {},
   "outputs": [
    {
     "data": {
      "text/html": [
       "<div>\n",
       "<style scoped>\n",
       "    .dataframe tbody tr th:only-of-type {\n",
       "        vertical-align: middle;\n",
       "    }\n",
       "\n",
       "    .dataframe tbody tr th {\n",
       "        vertical-align: top;\n",
       "    }\n",
       "\n",
       "    .dataframe thead th {\n",
       "        text-align: right;\n",
       "    }\n",
       "</style>\n",
       "<table border=\"1\" class=\"dataframe\">\n",
       "  <thead>\n",
       "    <tr style=\"text-align: right;\">\n",
       "      <th></th>\n",
       "      <th>reviews_content</th>\n",
       "      <th>category</th>\n",
       "    </tr>\n",
       "  </thead>\n",
       "  <tbody>\n",
       "    <tr>\n",
       "      <th>0</th>\n",
       "      <td>airplane ! is considered among many to be the ...</td>\n",
       "      <td>positive</td>\n",
       "    </tr>\n",
       "    <tr>\n",
       "      <th>1</th>\n",
       "      <td>you've got to love disney . \\nno matter what t...</td>\n",
       "      <td>positive</td>\n",
       "    </tr>\n",
       "    <tr>\n",
       "      <th>2</th>\n",
       "      <td>\" the tailor of panama \" is a different kind ...</td>\n",
       "      <td>positive</td>\n",
       "    </tr>\n",
       "    <tr>\n",
       "      <th>3</th>\n",
       "      <td>the characters in jonathan lynn's \" the whole ...</td>\n",
       "      <td>negative</td>\n",
       "    </tr>\n",
       "    <tr>\n",
       "      <th>4</th>\n",
       "      <td>vikings v . bears ? \\nno , this isn't the line...</td>\n",
       "      <td>negative</td>\n",
       "    </tr>\n",
       "  </tbody>\n",
       "</table>\n",
       "</div>"
      ],
      "text/plain": [
       "                                     reviews_content  category\n",
       "0  airplane ! is considered among many to be the ...  positive\n",
       "1  you've got to love disney . \\nno matter what t...  positive\n",
       "2   \" the tailor of panama \" is a different kind ...  positive\n",
       "3  the characters in jonathan lynn's \" the whole ...  negative\n",
       "4  vikings v . bears ? \\nno , this isn't the line...  negative"
      ]
     },
     "execution_count": 2,
     "metadata": {},
     "output_type": "execute_result"
    }
   ],
   "source": [
    "df = pd.read_csv('train.csv')\n",
    "df.head()"
   ]
  },
  {
   "cell_type": "code",
   "execution_count": 3,
   "metadata": {},
   "outputs": [
    {
     "name": "stdout",
     "output_type": "stream",
     "text": [
      "<class 'pandas.core.frame.DataFrame'>\n",
      "RangeIndex: 1500 entries, 0 to 1499\n",
      "Data columns (total 2 columns):\n",
      " #   Column           Non-Null Count  Dtype \n",
      "---  ------           --------------  ----- \n",
      " 0   reviews_content  1500 non-null   object\n",
      " 1   category         1500 non-null   object\n",
      "dtypes: object(2)\n",
      "memory usage: 23.6+ KB\n"
     ]
    }
   ],
   "source": [
    "df.info()"
   ]
  },
  {
   "cell_type": "code",
   "execution_count": 4,
   "metadata": {},
   "outputs": [
    {
     "data": {
      "text/html": [
       "<div>\n",
       "<style scoped>\n",
       "    .dataframe tbody tr th:only-of-type {\n",
       "        vertical-align: middle;\n",
       "    }\n",
       "\n",
       "    .dataframe tbody tr th {\n",
       "        vertical-align: top;\n",
       "    }\n",
       "\n",
       "    .dataframe thead th {\n",
       "        text-align: right;\n",
       "    }\n",
       "</style>\n",
       "<table border=\"1\" class=\"dataframe\">\n",
       "  <thead>\n",
       "    <tr style=\"text-align: right;\">\n",
       "      <th></th>\n",
       "      <th>reviews_content</th>\n",
       "      <th>category</th>\n",
       "    </tr>\n",
       "  </thead>\n",
       "  <tbody>\n",
       "    <tr>\n",
       "      <th>count</th>\n",
       "      <td>1500</td>\n",
       "      <td>1500</td>\n",
       "    </tr>\n",
       "    <tr>\n",
       "      <th>unique</th>\n",
       "      <td>1500</td>\n",
       "      <td>2</td>\n",
       "    </tr>\n",
       "    <tr>\n",
       "      <th>top</th>\n",
       "      <td>airplane ! is considered among many to be the ...</td>\n",
       "      <td>positive</td>\n",
       "    </tr>\n",
       "    <tr>\n",
       "      <th>freq</th>\n",
       "      <td>1</td>\n",
       "      <td>752</td>\n",
       "    </tr>\n",
       "  </tbody>\n",
       "</table>\n",
       "</div>"
      ],
      "text/plain": [
       "                                          reviews_content  category\n",
       "count                                                1500      1500\n",
       "unique                                               1500         2\n",
       "top     airplane ! is considered among many to be the ...  positive\n",
       "freq                                                    1       752"
      ]
     },
     "execution_count": 4,
     "metadata": {},
     "output_type": "execute_result"
    }
   ],
   "source": [
    "df.describe()"
   ]
  },
  {
   "cell_type": "code",
   "execution_count": 5,
   "metadata": {},
   "outputs": [
    {
     "name": "stdout",
     "output_type": "stream",
     "text": [
      "Number of NaN data in column reviews_content    0\n",
      "category           0\n",
      "dtype: int64\n"
     ]
    }
   ],
   "source": [
    "df.isna().sum()\n",
    "print(\"Number of NaN data in column\", df.isnull().sum())"
   ]
  },
  {
   "cell_type": "code",
   "execution_count": 6,
   "metadata": {},
   "outputs": [
    {
     "name": "stdout",
     "output_type": "stream",
     "text": [
      "Number of null data in column reviews_content    0\n",
      "category           0\n",
      "dtype: int64\n"
     ]
    }
   ],
   "source": [
    "df.isnull().sum()\n",
    "print(\"Number of null data in column\", df.isnull().sum())\n"
   ]
  },
  {
   "cell_type": "code",
   "execution_count": 7,
   "metadata": {},
   "outputs": [
    {
     "name": "stdout",
     "output_type": "stream",
     "text": [
      "Number of duplicated data within the dataset is 0\n"
     ]
    }
   ],
   "source": [
    "df.duplicated().sum()\n",
    "print(\"Number of duplicated data within the dataset is\", df.duplicated().sum())"
   ]
  },
  {
   "cell_type": "markdown",
   "metadata": {},
   "source": [
    "---\n",
    "\n",
    "### PRE PROCESSING\n",
    "\n",
    "---"
   ]
  },
  {
   "cell_type": "markdown",
   "metadata": {},
   "source": [
    "#### Expanding Contractions"
   ]
  },
  {
   "cell_type": "code",
   "execution_count": 8,
   "metadata": {},
   "outputs": [
    {
     "name": "stdout",
     "output_type": "stream",
     "text": [
      "\n",
      "DataFrame after expanding contractions:\n"
     ]
    },
    {
     "data": {
      "text/html": [
       "<div>\n",
       "<style scoped>\n",
       "    .dataframe tbody tr th:only-of-type {\n",
       "        vertical-align: middle;\n",
       "    }\n",
       "\n",
       "    .dataframe tbody tr th {\n",
       "        vertical-align: top;\n",
       "    }\n",
       "\n",
       "    .dataframe thead th {\n",
       "        text-align: right;\n",
       "    }\n",
       "</style>\n",
       "<table border=\"1\" class=\"dataframe\">\n",
       "  <thead>\n",
       "    <tr style=\"text-align: right;\">\n",
       "      <th></th>\n",
       "      <th>reviews_content</th>\n",
       "      <th>category</th>\n",
       "    </tr>\n",
       "  </thead>\n",
       "  <tbody>\n",
       "    <tr>\n",
       "      <th>0</th>\n",
       "      <td>airplane ! is considered among many to be the ...</td>\n",
       "      <td>positive</td>\n",
       "    </tr>\n",
       "    <tr>\n",
       "      <th>1</th>\n",
       "      <td>you have got to love disney . \\nno matter what...</td>\n",
       "      <td>positive</td>\n",
       "    </tr>\n",
       "    <tr>\n",
       "      <th>2</th>\n",
       "      <td>\" the tailor of panama \" is a different kind ...</td>\n",
       "      <td>positive</td>\n",
       "    </tr>\n",
       "    <tr>\n",
       "      <th>3</th>\n",
       "      <td>the characters in jonathan lynn's \" the whole ...</td>\n",
       "      <td>negative</td>\n",
       "    </tr>\n",
       "    <tr>\n",
       "      <th>4</th>\n",
       "      <td>vikings v . bears ? \\nno , this is not the lin...</td>\n",
       "      <td>negative</td>\n",
       "    </tr>\n",
       "  </tbody>\n",
       "</table>\n",
       "</div>"
      ],
      "text/plain": [
       "                                     reviews_content  category\n",
       "0  airplane ! is considered among many to be the ...  positive\n",
       "1  you have got to love disney . \\nno matter what...  positive\n",
       "2   \" the tailor of panama \" is a different kind ...  positive\n",
       "3  the characters in jonathan lynn's \" the whole ...  negative\n",
       "4  vikings v . bears ? \\nno , this is not the lin...  negative"
      ]
     },
     "execution_count": 8,
     "metadata": {},
     "output_type": "execute_result"
    }
   ],
   "source": [
    "def expand_contractions(text, contraction_mapping):\n",
    "    contractions_pattern = re.compile('({})'.format('|'.join(contraction_mapping.keys())), \n",
    "                                      flags=re.IGNORECASE | re.DOTALL)\n",
    "    \n",
    "    def expand_match(contraction):\n",
    "        expanded_contraction = contraction_mapping.get(contraction.group(0).lower())\n",
    "        if not expanded_contraction:\n",
    "            expanded_contraction = contraction_mapping.get(contraction.group(0).lower())\n",
    "        return expanded_contraction\n",
    "    \n",
    "    expanded_text = contractions_pattern.sub(expand_match, text)\n",
    "    \n",
    "    return expanded_text\n",
    "\n",
    "contraction_mapping = {\n",
    "    \"ain't\": \"is not\",\n",
    "    \"aren't\": \"are not\",\n",
    "    \"can't\": \"cannot\",\n",
    "    \"can't've\": \"cannot have\",\n",
    "    \"could've\": \"could have\",\n",
    "    \"couldn't\": \"could not\",\n",
    "    \"didn't\": \"did not\",\n",
    "    \"doesn't\": \"does not\",\n",
    "    \"don't\": \"do not\",\n",
    "    \"hadn't\": \"had not\",\n",
    "    \"hasn't\": \"has not\",\n",
    "    \"haven't\": \"have not\",\n",
    "    \"he'd\": \"he would\",\n",
    "    \"he'll\": \"he will\",\n",
    "    \"he's\": \"he is\",\n",
    "    \"how'd\": \"how did\",\n",
    "    \"how'll\": \"how will\",\n",
    "    \"how's\": \"how is\",\n",
    "    \"I'd\": \"I would\",\n",
    "    \"I'll\": \"I will\",\n",
    "    \"I'm\": \"I am\",\n",
    "    \"I've\": \"I have\",\n",
    "    \"isn't\": \"is not\",\n",
    "    \"it'd\": \"it would\",\n",
    "    \"it'll\": \"it will\",\n",
    "    \"it's\": \"it is\",\n",
    "    \"let's\": \"let us\",\n",
    "    \"ma'am\": \"madam\",\n",
    "    \"mayn't\": \"may not\",\n",
    "    \"might've\": \"might have\",\n",
    "    \"mightn't\": \"might not\",\n",
    "    \"must've\": \"must have\",\n",
    "    \"mustn't\": \"must not\",\n",
    "    \"needn't\": \"need not\",\n",
    "    \"oughtn't\": \"ought not\",\n",
    "    \"shan't\": \"shall not\",\n",
    "    \"sha'n't\": \"shall not\",\n",
    "    \"she'd\": \"she would\",\n",
    "    \"she'll\": \"she will\",\n",
    "    \"she's\": \"she is\",\n",
    "    \"should've\": \"should have\",\n",
    "    \"shouldn't\": \"should not\",\n",
    "    \"that'd\": \"that would\",\n",
    "    \"that's\": \"that is\",\n",
    "    \"there'd\": \"there had\",\n",
    "    \"there's\": \"there is\",\n",
    "    \"they'd\": \"they would\",\n",
    "    \"they'll\": \"they will\",\n",
    "    \"they're\": \"they are\",\n",
    "    \"they've\": \"they have\",\n",
    "    \"wasn't\": \"was not\",\n",
    "    \"we'd\": \"we would\",\n",
    "    \"we'll\": \"we will\",\n",
    "    \"we're\": \"we are\",\n",
    "    \"we've\": \"we have\",\n",
    "    \"weren't\": \"were not\",\n",
    "    \"what'll\": \"what will\",\n",
    "    \"what're\": \"what are\",\n",
    "    \"what's\": \"what is\",\n",
    "    \"what've\": \"what have\",\n",
    "    \"when's\": \"when is\",\n",
    "    \"when've\": \"when have\",\n",
    "    \"where'd\": \"where did\",\n",
    "    \"where's\": \"where is\",\n",
    "    \"where've\": \"where have\",\n",
    "    \"who'll\": \"who will\",\n",
    "    \"who's\": \"who is\",\n",
    "    \"who've\": \"who have\",\n",
    "    \"why's\": \"why is\",\n",
    "    \"why've\": \"why have\",\n",
    "    \"will've\": \"will have\",\n",
    "    \"won't\": \"will not\",\n",
    "    \"would've\": \"would have\",\n",
    "    \"wouldn't\": \"would not\",\n",
    "    \"y'all\": \"you all\",\n",
    "    \"you'd\": \"you would\",\n",
    "    \"you'll\": \"you will\",\n",
    "    \"you're\": \"you are\",\n",
    "    \"you've\": \"you have\"\n",
    "}\n",
    "preprocessed_df = df.copy()\n",
    "preprocessed_df['reviews_content'] = df['reviews_content'].apply(lambda x: expand_contractions(x, contraction_mapping))\n",
    "\n",
    "print(\"\\nDataFrame after expanding contractions:\")\n",
    "preprocessed_df.head()\n"
   ]
  },
  {
   "cell_type": "markdown",
   "metadata": {},
   "source": [
    "#### Lowercasing, Removing Stop Words, And Tokenizing\n",
    "\n",
    "After some tests, Dataset with non alphabetical character gives much higher accuracy than without."
   ]
  },
  {
   "cell_type": "code",
   "execution_count": 9,
   "metadata": {},
   "outputs": [
    {
     "name": "stderr",
     "output_type": "stream",
     "text": [
      "[nltk_data] Downloading package stopwords to\n",
      "[nltk_data]     /Users/ferroyudisthira/nltk_data...\n",
      "[nltk_data]   Package stopwords is already up-to-date!\n"
     ]
    },
    {
     "data": {
      "text/plain": [
       "0    [airplane, !, considered, among, many, epitome...\n",
       "1    [got, love, disney, ., matter, serve, ,, guara...\n",
       "2    [``, tailor, panama, ``, different, kind, spy,...\n",
       "3    [characters, jonathan, lynn, 's, ``, whole, ni...\n",
       "4    [vikings, v, ., bears, ?, ,, lineup, monday, n...\n",
       "Name: reviews_content, dtype: object"
      ]
     },
     "execution_count": 9,
     "metadata": {},
     "output_type": "execute_result"
    }
   ],
   "source": [
    "nltk.download('stopwords')\n",
    "stop_words = set(stopwords.words('english'))\n",
    "\n",
    "def CleanText(text):\n",
    "    text = text.lower()\n",
    "    tokens = nltk.word_tokenize(text)\n",
    "\n",
    "    filtered_tokens = [word for word in tokens if word not in stop_words]\n",
    "    return filtered_tokens\n",
    "\n",
    "preprocessed_df['reviews_content'] = preprocessed_df['reviews_content'].apply(CleanText)\n",
    "preprocessed_df['reviews_content'].head()\n"
   ]
  },
  {
   "cell_type": "markdown",
   "metadata": {},
   "source": [
    "### Lemmatizer\n",
    "\n",
    "Lemmatizer is needed to return words back to their root form"
   ]
  },
  {
   "cell_type": "code",
   "execution_count": 10,
   "metadata": {},
   "outputs": [
    {
     "data": {
      "text/html": [
       "<div>\n",
       "<style scoped>\n",
       "    .dataframe tbody tr th:only-of-type {\n",
       "        vertical-align: middle;\n",
       "    }\n",
       "\n",
       "    .dataframe tbody tr th {\n",
       "        vertical-align: top;\n",
       "    }\n",
       "\n",
       "    .dataframe thead th {\n",
       "        text-align: right;\n",
       "    }\n",
       "</style>\n",
       "<table border=\"1\" class=\"dataframe\">\n",
       "  <thead>\n",
       "    <tr style=\"text-align: right;\">\n",
       "      <th></th>\n",
       "      <th>reviews_content</th>\n",
       "      <th>category</th>\n",
       "    </tr>\n",
       "  </thead>\n",
       "  <tbody>\n",
       "    <tr>\n",
       "      <th>0</th>\n",
       "      <td>airplane ! consider among many epitome satire ...</td>\n",
       "      <td>positive</td>\n",
       "    </tr>\n",
       "    <tr>\n",
       "      <th>1</th>\n",
       "      <td>get love disney . matter serve , guarantee suc...</td>\n",
       "      <td>positive</td>\n",
       "    </tr>\n",
       "    <tr>\n",
       "      <th>2</th>\n",
       "      <td>` ` tailor panama ` ` different kind spy movie...</td>\n",
       "      <td>positive</td>\n",
       "    </tr>\n",
       "    <tr>\n",
       "      <th>3</th>\n",
       "      <td>character jonathan lynn 's ` ` whole nine yard...</td>\n",
       "      <td>negative</td>\n",
       "    </tr>\n",
       "    <tr>\n",
       "      <th>4</th>\n",
       "      <td>viking v . bear ? , lineup monday night footba...</td>\n",
       "      <td>negative</td>\n",
       "    </tr>\n",
       "  </tbody>\n",
       "</table>\n",
       "</div>"
      ],
      "text/plain": [
       "                                     reviews_content  category\n",
       "0  airplane ! consider among many epitome satire ...  positive\n",
       "1  get love disney . matter serve , guarantee suc...  positive\n",
       "2  ` ` tailor panama ` ` different kind spy movie...  positive\n",
       "3  character jonathan lynn 's ` ` whole nine yard...  negative\n",
       "4  viking v . bear ? , lineup monday night footba...  negative"
      ]
     },
     "execution_count": 10,
     "metadata": {},
     "output_type": "execute_result"
    }
   ],
   "source": [
    "sp = spacy.load(\"en_core_web_sm\")\n",
    "\n",
    "def lemmatization(text_list):\n",
    "    text = ' '.join(text_list)\n",
    "    tokenized_text = sp(text)\n",
    "\n",
    "    lemmatized_text = ' '.join([word.lemma_ for word in tokenized_text])\n",
    "    return lemmatized_text\n",
    "\n",
    "\n",
    "preprocessed_df['reviews_content'] = preprocessed_df['reviews_content'].apply(lemmatization)\n",
    "preprocessed_df.head()"
   ]
  },
  {
   "cell_type": "markdown",
   "metadata": {},
   "source": [
    "---\n",
    "---\n",
    "### **FEATURE EXTRACTION**\n",
    "---\n",
    "---"
   ]
  },
  {
   "cell_type": "markdown",
   "metadata": {},
   "source": [
    "### TF-IDF Method"
   ]
  },
  {
   "cell_type": "markdown",
   "metadata": {},
   "source": [
    "Let's try to tune the TF-IDF parameter to find the feature extraction. I am using the LinearSVM model to generate the Accuracy score."
   ]
  },
  {
   "cell_type": "code",
   "execution_count": 11,
   "metadata": {},
   "outputs": [
    {
     "name": "stdout",
     "output_type": "stream",
     "text": [
      "Best accuracy: 0.8670886075949367\n",
      "Best parameters: {'min_df': 3, 'max_df': 0.9, 'max_features': 4000}\n"
     ]
    }
   ],
   "source": [
    "import numpy as np\n",
    "import pandas as pd\n",
    "import matplotlib.pyplot as plt\n",
    "from sklearn.model_selection import train_test_split\n",
    "from sklearn.feature_extraction.text import TfidfVectorizer\n",
    "from sklearn.svm import SVC\n",
    "from sklearn.metrics import accuracy_score\n",
    "\n",
    "min_df_range = range(1, 10)\n",
    "max_df_range = [i / 10 for i in range(1, 10)]\n",
    "max_features_range = range(1000, 15000, 1000)\n",
    "\n",
    "best_accuracy = 0\n",
    "best_params = {}\n",
    "\n",
    "accuracy_scores = []\n",
    "\n",
    "for min_df in min_df_range:\n",
    "    for max_df in max_df_range:\n",
    "        for max_features_val in max_features_range:\n",
    "            tfidf_params = {\n",
    "                'min_df': min_df,\n",
    "                'max_df': max_df,\n",
    "                'ngram_range': (1, 1),\n",
    "                'max_features': max_features_val\n",
    "            }\n",
    "\n",
    "            tfidf_vectorizer = TfidfVectorizer(**tfidf_params)\n",
    "            X = preprocessed_df['reviews_content']\n",
    "            y = preprocessed_df['category']\n",
    "\n",
    "            X_train, X_test, y_train, y_test = train_test_split(X, y, test_size=0.21000002, random_state=42, stratify=y)\n",
    "\n",
    "            X_train_tfidf = tfidf_vectorizer.fit_transform(X_train)\n",
    "            X_test_tfidf = tfidf_vectorizer.transform(X_test)\n",
    "\n",
    "            svm_model = LinearSVC(dual='auto')\n",
    "            svm_model.fit(X_train_tfidf, y_train)\n",
    "\n",
    "            y_pred_tuned = svm_model.predict(X_test_tfidf)\n",
    "\n",
    "            accuracy = accuracy_score(y_test, y_pred_tuned)\n",
    "            accuracy_scores.append(accuracy)\n",
    "            if accuracy > best_accuracy:\n",
    "                best_accuracy = accuracy\n",
    "                best_params = {\n",
    "                    'min_df': min_df,\n",
    "                    'max_df': max_df,\n",
    "                    'max_features': max_features_val\n",
    "                }\n",
    "\n",
    "print(\"Best accuracy:\", best_accuracy)\n",
    "print(\"Best parameters:\", best_params)\n"
   ]
  },
  {
   "cell_type": "code",
   "execution_count": 12,
   "metadata": {},
   "outputs": [],
   "source": [
    "X_train, X_test, y_train, y_test = train_test_split(X, y, test_size=0.2100002, random_state=42, stratify=y)\n",
    "\n",
    "tfidf_vectorizer = TfidfVectorizer(min_df=3, max_df=0.9, max_features=4000, ngram_range=(1,1))\n",
    "\n",
    "X_train_tfidf = tfidf_vectorizer.fit_transform(X_train)\n",
    "X_test_tfidf = tfidf_vectorizer.transform(X_test)"
   ]
  },
  {
   "cell_type": "markdown",
   "metadata": {},
   "source": [
    "---\n",
    "---\n",
    "\n",
    "### **Creating Model**\n",
    "\n",
    "---\n",
    "---"
   ]
  },
  {
   "cell_type": "markdown",
   "metadata": {},
   "source": [
    "---\n",
    "#### Linear SVM Model\n",
    "---"
   ]
  },
  {
   "cell_type": "markdown",
   "metadata": {},
   "source": [
    "##### Base TF-IDF"
   ]
  },
  {
   "cell_type": "code",
   "execution_count": 13,
   "metadata": {},
   "outputs": [
    {
     "name": "stdout",
     "output_type": "stream",
     "text": [
      "Linear SVM Accuracy: 0.8670886075949367\n",
      "Linear SVM Classification Report:\n",
      "              precision    recall  f1-score   support\n",
      "\n",
      "    negative       0.87      0.87      0.87       158\n",
      "    positive       0.87      0.87      0.87       158\n",
      "\n",
      "    accuracy                           0.87       316\n",
      "   macro avg       0.87      0.87      0.87       316\n",
      "weighted avg       0.87      0.87      0.87       316\n",
      "\n"
     ]
    }
   ],
   "source": [
    "svm_model = LinearSVC(dual='auto')\n",
    "svm_model.fit(X_train_tfidf, y_train)\n",
    "\n",
    "y_pred_svm = svm_model.predict(X_test_tfidf)\n",
    "\n",
    "accuracy = accuracy_score(y_test, y_pred_svm)\n",
    "\n",
    "print(\"Linear SVM Accuracy:\", accuracy_score(y_test, y_pred_svm))\n",
    "print(\"Linear SVM Classification Report:\")\n",
    "print(classification_report(y_test, y_pred_svm))"
   ]
  },
  {
   "cell_type": "code",
   "execution_count": 14,
   "metadata": {},
   "outputs": [
    {
     "data": {
      "image/png": "[encoded data removed]",
      "text/plain": [
       "<Figure size 1000x600 with 1 Axes>"
      ]
     },
     "metadata": {},
     "output_type": "display_data"
    },
    {
     "name": "stdout",
     "output_type": "stream",
     "text": [
      "Best C value: 1\n",
      "Tuned Linear SVM Accuracy: 0.8670886075949367\n",
      "Tuned Linear SVM Classification Report:\n",
      "              precision    recall  f1-score   support\n",
      "\n",
      "    negative       0.87      0.87      0.87       158\n",
      "    positive       0.87      0.87      0.87       158\n",
      "\n",
      "    accuracy                           0.87       316\n",
      "   macro avg       0.87      0.87      0.87       316\n",
      "weighted avg       0.87      0.87      0.87       316\n",
      "\n"
     ]
    }
   ],
   "source": [
    "import numpy as np\n",
    "import matplotlib.pyplot as plt\n",
    "from sklearn.svm import LinearSVC\n",
    "from sklearn.metrics import accuracy_score, classification_report\n",
    "\n",
    "# Define the values of C to search\n",
    "C_values = [0.01, 0.1, 1, 2, 3, 4, 5, 6, 7, 8, 9, 10]\n",
    "\n",
    "accuracies = []\n",
    "\n",
    "for C in C_values:\n",
    "    # Initialize and train the LinearSVC model with the current C value\n",
    "    svm_model = LinearSVC(dual='auto', C=C)\n",
    "    svm_model.fit(X_train_tfidf, y_train)\n",
    "\n",
    "    # Make predictions on the test set\n",
    "    y_pred = svm_model.predict(X_test_tfidf)\n",
    "\n",
    "    # Calculate accuracy\n",
    "    accuracy = accuracy_score(y_test, y_pred)\n",
    "    accuracies.append(accuracy)\n",
    "\n",
    "    # Check if this C value gives better accuracy\n",
    "\n",
    "# Plot the graph\n",
    "plt.figure(figsize=(10, 6))\n",
    "plt.plot(C_values, accuracies, marker='o')\n",
    "plt.xlabel('C')\n",
    "plt.ylabel('Accuracy')\n",
    "plt.title('Accuracy vs C for Linear SVM')\n",
    "plt.grid(True)\n",
    "plt.show()\n",
    "\n",
    "# Find the best C value that gives the highest accuracy\n",
    "best_accuracy = max(accuracies)\n",
    "best_C = C_values[accuracies.index(best_accuracy)]\n",
    "\n",
    "# Train a new model using the best C value\n",
    "svm_model_tuned = LinearSVC(dual='auto', C=best_C)\n",
    "svm_model_tuned.fit(X_train_tfidf, y_train)\n",
    "\n",
    "# Make predictions\n",
    "y_pred_svm_tuned = svm_model_tuned.predict(X_test_tfidf)\n",
    "\n",
    "# Evaluate performance\n",
    "accuracy_tuned = accuracy_score(y_test, y_pred_svm_tuned)\n",
    "print(\"Best C value:\", best_C)\n",
    "print(\"Tuned Linear SVM Accuracy:\", accuracy_tuned)\n",
    "print(\"Tuned Linear SVM Classification Report:\")\n",
    "print(classification_report(y_test, y_pred_svm_tuned))\n"
   ]
  },
  {
   "cell_type": "markdown",
   "metadata": {},
   "source": [
    "---\n",
    "### SVC Kernel Based Model\n",
    "---"
   ]
  },
  {
   "cell_type": "markdown",
   "metadata": {},
   "source": [
    "---\n",
    "#### Polynomial Kernel\n",
    "---"
   ]
  },
  {
   "cell_type": "markdown",
   "metadata": {},
   "source": [
    "##### Base TF-IDF"
   ]
  },
  {
   "cell_type": "code",
   "execution_count": 15,
   "metadata": {},
   "outputs": [
    {
     "name": "stdout",
     "output_type": "stream",
     "text": [
      "SVC with Polynomial Kernel Accuracy: 0.7246835443037974\n",
      "\n",
      "SVC with Polynomial Kernel Classification Report:\n",
      "              precision    recall  f1-score   support\n",
      "\n",
      "    negative       0.72      0.73      0.73       158\n",
      "    positive       0.73      0.72      0.72       158\n",
      "\n",
      "    accuracy                           0.72       316\n",
      "   macro avg       0.72      0.72      0.72       316\n",
      "weighted avg       0.72      0.72      0.72       316\n",
      "\n"
     ]
    }
   ],
   "source": [
    "svc_poly_model = SVC(kernel='poly')\n",
    "\n",
    "# Fit the model on the training data\n",
    "svc_poly_model.fit(X_train_tfidf, y_train)\n",
    "\n",
    "# Make predictions on the testing data\n",
    "y_pred_poly = svc_poly_model.predict(X_test_tfidf)\n",
    "\n",
    "# Calculate accuracy\n",
    "accuracy_poly = accuracy_score(y_test, y_pred_poly)\n",
    "print(\"SVC with Polynomial Kernel Accuracy:\", accuracy_poly)\n",
    "\n",
    "print(\"\\nSVC with Polynomial Kernel Classification Report:\")\n",
    "print(classification_report(y_test, y_pred_poly))"
   ]
  },
  {
   "cell_type": "code",
   "execution_count": 16,
   "metadata": {},
   "outputs": [
    {
     "data": {
      "image/png": "[encoded data removed]",
      "text/plain": [
       "<Figure size 1000x600 with 1 Axes>"
      ]
     },
     "metadata": {},
     "output_type": "display_data"
    },
    {
     "name": "stdout",
     "output_type": "stream",
     "text": [
      "Best C value: 2\n",
      "Tuned SCV with Polynomial Kernel Accuracy: 0.819620253164557\n",
      "Tuned SCV with Polynomial Kernel Classification Report:\n",
      "              precision    recall  f1-score   support\n",
      "\n",
      "    negative       0.83      0.81      0.82       158\n",
      "    positive       0.81      0.83      0.82       158\n",
      "\n",
      "    accuracy                           0.82       316\n",
      "   macro avg       0.82      0.82      0.82       316\n",
      "weighted avg       0.82      0.82      0.82       316\n",
      "\n"
     ]
    }
   ],
   "source": [
    "C_values = [0.01, 0.1, 1, 2, 3, 4, 5, 6, 7, 8, 9, 10]\n",
    "\n",
    "accuracies = []\n",
    "\n",
    "for C in C_values:\n",
    "    # Initialize and train the LinearSVC model with the current C value\n",
    "    svc_poly_tuned = SVC(kernel='poly', degree=2, gamma='scale',C=C)\n",
    "    svc_poly_tuned.fit(X_train_tfidf, y_train)\n",
    "\n",
    "    # Make predictions on the test set\n",
    "    y_pred = svc_poly_tuned.predict(X_test_tfidf)\n",
    "\n",
    "    # Calculate accuracy\n",
    "    accuracy = accuracy_score(y_test, y_pred)\n",
    "    accuracies.append(accuracy)\n",
    "\n",
    "    # Check if this C value gives better accuracy\n",
    "\n",
    "# Plot the graph\n",
    "plt.figure(figsize=(10, 6))\n",
    "plt.plot(C_values, accuracies, marker='o')\n",
    "plt.xlabel('C')\n",
    "plt.ylabel('Accuracy')\n",
    "plt.title('Accuracy vs C for SCV with Polynomial Kernel')\n",
    "plt.grid(True)\n",
    "plt.show()\n",
    "\n",
    "# Find the best C value that gives the highest accuracy\n",
    "best_accuracy = max(accuracies)\n",
    "best_C = C_values[accuracies.index(best_accuracy)]\n",
    "\n",
    "# Train a new model using the best C value\n",
    "svc_poly_tuned = SVC(kernel='poly', degree=2, gamma='scale',C=best_C)\n",
    "svc_poly_tuned.fit(X_train_tfidf, y_train)\n",
    "\n",
    "# Make predictions\n",
    "y_pred_poly_tuned = svc_poly_tuned.predict(X_test_tfidf)\n",
    "\n",
    "# Evaluate performance\n",
    "accuracy_tuned = accuracy_score(y_test, y_pred_poly_tuned)\n",
    "print(\"Best C value:\", best_C)\n",
    "print(\"Tuned SCV with Polynomial Kernel Accuracy:\", accuracy_tuned)\n",
    "print(\"Tuned SCV with Polynomial Kernel Classification Report:\")\n",
    "print(classification_report(y_test, y_pred_poly_tuned))\n"
   ]
  },
  {
   "cell_type": "markdown",
   "metadata": {},
   "source": [
    "---\n",
    "#### Radial Basis Function (RBF) Kernel\n",
    "---"
   ]
  },
  {
   "cell_type": "markdown",
   "metadata": {},
   "source": [
    "##### Base TF-IDF"
   ]
  },
  {
   "cell_type": "code",
   "execution_count": 17,
   "metadata": {},
   "outputs": [
    {
     "name": "stdout",
     "output_type": "stream",
     "text": [
      "SVC with RBF Kernel Accuracy: 0.8259493670886076\n",
      "\n",
      "SVC with RBF Kernel Classification Report:\n",
      "              precision    recall  f1-score   support\n",
      "\n",
      "    negative       0.84      0.81      0.82       158\n",
      "    positive       0.82      0.84      0.83       158\n",
      "\n",
      "    accuracy                           0.83       316\n",
      "   macro avg       0.83      0.83      0.83       316\n",
      "weighted avg       0.83      0.83      0.83       316\n",
      "\n"
     ]
    }
   ],
   "source": [
    "svc_rbf_model = SVC(kernel='rbf')\n",
    "\n",
    "# Fit the model on the training data\n",
    "svc_rbf_model.fit(X_train_tfidf, y_train)\n",
    "\n",
    "# Make predictions on the testing data\n",
    "y_pred_rbf = svc_rbf_model.predict(X_test_tfidf)\n",
    "\n",
    "# Calculate accuracy\n",
    "accuracy_rbf = accuracy_score(y_test, y_pred_rbf)\n",
    "print(\"SVC with RBF Kernel Accuracy:\", accuracy_rbf)\n",
    "\n",
    "print(\"\\nSVC with RBF Kernel Classification Report:\")\n",
    "print(classification_report(y_test, y_pred_rbf))"
   ]
  },
  {
   "cell_type": "code",
   "execution_count": 18,
   "metadata": {},
   "outputs": [
    {
     "data": {
      "image/png": "[encoded data removed]",
      "text/plain": [
       "<Figure size 1000x600 with 1 Axes>"
      ]
     },
     "metadata": {},
     "output_type": "display_data"
    },
    {
     "name": "stdout",
     "output_type": "stream",
     "text": [
      "Best C value: 2\n",
      "Tuned SVC with RBF Kernel Accuracy: 0.8481012658227848\n",
      "Tuned SVC with RBF Kernel Classification Report:\n",
      "              precision    recall  f1-score   support\n",
      "\n",
      "    negative       0.85      0.85      0.85       158\n",
      "    positive       0.85      0.85      0.85       158\n",
      "\n",
      "    accuracy                           0.85       316\n",
      "   macro avg       0.85      0.85      0.85       316\n",
      "weighted avg       0.85      0.85      0.85       316\n",
      "\n"
     ]
    }
   ],
   "source": [
    "C_values = [0.01, 0.1, 1, 2, 3, 4, 5, 6, 7, 8, 9, 10]\n",
    "\n",
    "accuracies = []\n",
    "\n",
    "for C in C_values:\n",
    "    # Initialize and train the LinearSVC model with the current C value\n",
    "    svc_rbf_tuned = SVC(kernel='rbf', gamma='scale',C=C)\n",
    "    svc_rbf_tuned.fit(X_train_tfidf, y_train)\n",
    "\n",
    "    # Make predictions on the test set\n",
    "    y_pred = svc_rbf_tuned.predict(X_test_tfidf)\n",
    "\n",
    "    # Calculate accuracy\n",
    "    accuracy = accuracy_score(y_test, y_pred)\n",
    "    accuracies.append(accuracy)\n",
    "\n",
    "    # Check if this C value gives better accuracy\n",
    "\n",
    "# Plot the graph\n",
    "plt.figure(figsize=(10, 6))\n",
    "plt.plot(C_values, accuracies, marker='o')\n",
    "plt.xlabel('C')\n",
    "plt.ylabel('Accuracy')\n",
    "plt.title('Accuracy vs C for SVC with RBF Kernel')\n",
    "plt.grid(True)\n",
    "plt.show()\n",
    "\n",
    "# Find the best C value that gives the highest accuracy\n",
    "best_accuracy = max(accuracies)\n",
    "best_C = C_values[accuracies.index(best_accuracy)]\n",
    "\n",
    "# Train a new model using the best C value\n",
    "svc_rbf_tuned = SVC(kernel='rbf', gamma='scale',C=best_C)\n",
    "svc_rbf_tuned.fit(X_train_tfidf, y_train)\n",
    "\n",
    "# Make predictions\n",
    "y_pred_rbf_tuned = svc_rbf_tuned.predict(X_test_tfidf)\n",
    "\n",
    "# Evaluate performance\n",
    "accuracy_tuned = accuracy_score(y_test, y_pred_rbf_tuned)\n",
    "print(\"Best C value:\", best_C)\n",
    "print(\"Tuned SVC with RBF Kernel Accuracy:\", accuracy_tuned)\n",
    "print(\"Tuned SVC with RBF Kernel Classification Report:\")\n",
    "print(classification_report(y_test, y_pred_rbf_tuned))\n"
   ]
  },
  {
   "cell_type": "markdown",
   "metadata": {},
   "source": [
    "---\n",
    "#### Sigmoid Kernel\n",
    "---"
   ]
  },
  {
   "cell_type": "markdown",
   "metadata": {},
   "source": [
    "##### Base TF-IDF"
   ]
  },
  {
   "cell_type": "code",
   "execution_count": 19,
   "metadata": {},
   "outputs": [
    {
     "name": "stdout",
     "output_type": "stream",
     "text": [
      "SVC with Sigmoid Kernel Accuracy: 0.8575949367088608\n",
      "\n",
      "SVC with Sigmoid Kernel Classification Report:\n",
      "              precision    recall  f1-score   support\n",
      "\n",
      "    negative       0.87      0.84      0.86       158\n",
      "    positive       0.85      0.87      0.86       158\n",
      "\n",
      "    accuracy                           0.86       316\n",
      "   macro avg       0.86      0.86      0.86       316\n",
      "weighted avg       0.86      0.86      0.86       316\n",
      "\n"
     ]
    }
   ],
   "source": [
    "svc_sig_model = SVC(kernel='sigmoid')\n",
    "\n",
    "# Fit the model on the training data\n",
    "svc_sig_model.fit(X_train_tfidf, y_train)\n",
    "\n",
    "# Make predictions on the testing data\n",
    "y_pred_sig = svc_sig_model.predict(X_test_tfidf)\n",
    "\n",
    "# Calculate accuracy\n",
    "accuracy_sig = accuracy_score(y_test, y_pred_sig)\n",
    "print(\"SVC with Sigmoid Kernel Accuracy:\", accuracy_sig)\n",
    "\n",
    "print(\"\\nSVC with Sigmoid Kernel Classification Report:\")\n",
    "print(classification_report(y_test, y_pred_sig))"
   ]
  },
  {
   "cell_type": "code",
   "execution_count": 20,
   "metadata": {},
   "outputs": [
    {
     "data": {
      "image/png": "[encoded data removed]",
      "text/plain": [
       "<Figure size 1000x600 with 1 Axes>"
      ]
     },
     "metadata": {},
     "output_type": "display_data"
    },
    {
     "name": "stdout",
     "output_type": "stream",
     "text": [
      "Best C value: 1\n",
      "Tuned SVC with RBF Kernel Accuracy: 0.8575949367088608\n",
      "Tuned SVC with RBF Kernel Classification Report:\n",
      "              precision    recall  f1-score   support\n",
      "\n",
      "    negative       0.87      0.84      0.86       158\n",
      "    positive       0.85      0.87      0.86       158\n",
      "\n",
      "    accuracy                           0.86       316\n",
      "   macro avg       0.86      0.86      0.86       316\n",
      "weighted avg       0.86      0.86      0.86       316\n",
      "\n"
     ]
    }
   ],
   "source": [
    "C_values = [0.01, 0.1, 1, 2, 3, 4, 5, 6, 7, 8, 9, 10]\n",
    "\n",
    "accuracies = []\n",
    "\n",
    "for C in C_values:\n",
    "    # Initialize and train the LinearSVC model with the current C value\n",
    "    svc_sig_tuned = SVC(kernel='sigmoid', gamma='scale',C=C)\n",
    "    svc_sig_tuned.fit(X_train_tfidf, y_train)\n",
    "\n",
    "    # Make predictions on the test set\n",
    "    y_pred = svc_sig_tuned.predict(X_test_tfidf)\n",
    "\n",
    "    # Calculate accuracy\n",
    "    accuracy = accuracy_score(y_test, y_pred)\n",
    "    accuracies.append(accuracy)\n",
    "\n",
    "    # Check if this C value gives better accuracy\n",
    "\n",
    "# Plot the graph\n",
    "plt.figure(figsize=(10, 6))\n",
    "plt.plot(C_values, accuracies, marker='o')\n",
    "plt.xlabel('C')\n",
    "plt.ylabel('Accuracy')\n",
    "plt.title('Accuracy vs C for SVC with sigmoid Kernel')\n",
    "plt.grid(True)\n",
    "plt.show()\n",
    "\n",
    "# Find the best C value that gives the highest accuracy\n",
    "best_accuracy = max(accuracies)\n",
    "best_C = C_values[accuracies.index(best_accuracy)]\n",
    "\n",
    "# Train a new model using the best C value\n",
    "svc_sig_tuned = SVC(kernel='sigmoid', gamma='scale',C=best_C)\n",
    "svc_sig_tuned.fit(X_train_tfidf, y_train)\n",
    "\n",
    "# Make predictions\n",
    "y_pred_sig_tuned = svc_sig_tuned.predict(X_test_tfidf)\n",
    "\n",
    "# Evaluate performance\n",
    "accuracy_tuned = accuracy_score(y_test, y_pred_sig_tuned)\n",
    "print(\"Best C value:\", best_C)\n",
    "print(\"Tuned SVC with RBF Kernel Accuracy:\", accuracy_tuned)\n",
    "print(\"Tuned SVC with RBF Kernel Classification Report:\")\n",
    "print(classification_report(y_test, y_pred_sig_tuned))\n"
   ]
  },
  {
   "cell_type": "markdown",
   "metadata": {},
   "source": [
    "---\n",
    "#### Linear Kernel\n",
    "---"
   ]
  },
  {
   "cell_type": "markdown",
   "metadata": {},
   "source": [
    "##### Base TF-IDF"
   ]
  },
  {
   "cell_type": "code",
   "execution_count": 21,
   "metadata": {},
   "outputs": [
    {
     "name": "stdout",
     "output_type": "stream",
     "text": [
      "SVC with Linear Kernel Accuracy: 0.8575949367088608\n",
      "\n",
      "SVC with Linear Kernel Classification Report:\n",
      "              precision    recall  f1-score   support\n",
      "\n",
      "    negative       0.87      0.84      0.86       158\n",
      "    positive       0.85      0.87      0.86       158\n",
      "\n",
      "    accuracy                           0.86       316\n",
      "   macro avg       0.86      0.86      0.86       316\n",
      "weighted avg       0.86      0.86      0.86       316\n",
      "\n"
     ]
    }
   ],
   "source": [
    "svc_lin_model = SVC(kernel='linear')\n",
    "\n",
    "# Fit the model on the training data\n",
    "svc_lin_model.fit(X_train_tfidf, y_train)\n",
    "\n",
    "# Make predictions on the testing data\n",
    "y_pred_lin = svc_lin_model.predict(X_test_tfidf)\n",
    "\n",
    "# Calculate accuracy\n",
    "accuracy_lin = accuracy_score(y_test, y_pred_lin)\n",
    "print(\"SVC with Linear Kernel Accuracy:\", accuracy_lin)\n",
    "\n",
    "print(\"\\nSVC with Linear Kernel Classification Report:\")\n",
    "print(classification_report(y_test, y_pred_lin))"
   ]
  },
  {
   "cell_type": "code",
   "execution_count": 22,
   "metadata": {},
   "outputs": [
    {
     "data": {
      "image/png": "[encoded data removed]",
      "text/plain": [
       "<Figure size 1000x600 with 1 Axes>"
      ]
     },
     "metadata": {},
     "output_type": "display_data"
    },
    {
     "name": "stdout",
     "output_type": "stream",
     "text": [
      "Best C value: 1\n",
      "Tuned SVC with RBF Kernel Accuracy: 0.8575949367088608\n",
      "Tuned SVC with RBF Kernel Classification Report:\n",
      "              precision    recall  f1-score   support\n",
      "\n",
      "    negative       0.87      0.84      0.86       158\n",
      "    positive       0.85      0.87      0.86       158\n",
      "\n",
      "    accuracy                           0.86       316\n",
      "   macro avg       0.86      0.86      0.86       316\n",
      "weighted avg       0.86      0.86      0.86       316\n",
      "\n"
     ]
    }
   ],
   "source": [
    "C_values = [0.01, 0.1, 1, 2, 3, 4, 5, 6, 7, 8, 9, 10]\n",
    "\n",
    "accuracies = []\n",
    "\n",
    "for C in C_values:\n",
    "    # Initialize and train the LinearSVC model with the current C value\n",
    "    svc_lin_tuned = SVC(kernel='linear',C=C)\n",
    "    svc_lin_tuned.fit(X_train_tfidf, y_train)\n",
    "\n",
    "    # Make predictions on the test set\n",
    "    y_pred = svc_lin_tuned.predict(X_test_tfidf)\n",
    "\n",
    "    # Calculate accuracy\n",
    "    accuracy = accuracy_score(y_test, y_pred)\n",
    "    accuracies.append(accuracy)\n",
    "\n",
    "    # Check if this C value gives better accuracy\n",
    "\n",
    "# Plot the graph\n",
    "plt.figure(figsize=(10, 6))\n",
    "plt.plot(C_values, accuracies, marker='o')\n",
    "plt.xlabel('C')\n",
    "plt.ylabel('Accuracy')\n",
    "plt.title('Accuracy vs C for SVC with Linear Kernel')\n",
    "plt.grid(True)\n",
    "plt.show()\n",
    "\n",
    "# Find the best C value that gives the highest accuracy\n",
    "best_accuracy = max(accuracies)\n",
    "best_C = C_values[accuracies.index(best_accuracy)]\n",
    "\n",
    "# Train a new model using the best C value\n",
    "svc_lin_tuned = SVC(kernel='linear', gamma='scale',C=best_C)\n",
    "svc_lin_tuned.fit(X_train_tfidf, y_train)\n",
    "\n",
    "# Make predictions\n",
    "y_pred_lin_tuned = svc_sig_tuned.predict(X_test_tfidf)\n",
    "\n",
    "# Evaluate performance\n",
    "accuracy_tuned = accuracy_score(y_test, y_pred_lin_tuned)\n",
    "print(\"Best C value:\", best_C)\n",
    "print(\"Tuned SVC with RBF Kernel Accuracy:\", accuracy_tuned)\n",
    "print(\"Tuned SVC with RBF Kernel Classification Report:\")\n",
    "print(classification_report(y_test, y_pred_lin_tuned))\n"
   ]
  },
  {
   "cell_type": "markdown",
   "metadata": {},
   "source": [
    "---\n",
    "#### Ensamble Model\n",
    "---"
   ]
  },
  {
   "cell_type": "code",
   "execution_count": 23,
   "metadata": {},
   "outputs": [
    {
     "name": "stdout",
     "output_type": "stream",
     "text": [
      "Voting Ensemble Accuracy: 0.8639240506329114\n",
      "Voting Ensemble Classification Report:\n",
      "              precision    recall  f1-score   support\n",
      "\n",
      "    negative       0.87      0.86      0.86       158\n",
      "    positive       0.86      0.87      0.86       158\n",
      "\n",
      "    accuracy                           0.86       316\n",
      "   macro avg       0.86      0.86      0.86       316\n",
      "weighted avg       0.86      0.86      0.86       316\n",
      "\n"
     ]
    }
   ],
   "source": [
    "from sklearn.feature_extraction.text import TfidfVectorizer\n",
    "from sklearn.model_selection import train_test_split\n",
    "from sklearn.naive_bayes import MultinomialNB\n",
    "from sklearn.ensemble import RandomForestClassifier, GradientBoostingClassifier, VotingClassifier\n",
    "from sklearn.svm import SVC, LinearSVC\n",
    "from sklearn.linear_model import LogisticRegression\n",
    "from sklearn.metrics import accuracy_score, classification_report\n",
    "import pandas as pd\n",
    "# Create the voting ensemble\n",
    "voting_classifier = VotingClassifier(\n",
    "    estimators=[\n",
    "        ('svm_linear', svm_model_tuned),\n",
    "        ('svm_poly', svc_poly_tuned),\n",
    "        ('svm_rbf', svc_rbf_tuned),\n",
    "        ('svm_sigmoid', svc_sig_tuned),\n",
    "        ('svm_linear_svc', svc_lin_tuned)\n",
    "    ],\n",
    "    voting='hard'  # Use 'hard' voting for majority rule\n",
    ")\n",
    "\n",
    "# Fit the voting ensemble on the training data\n",
    "voting_classifier.fit(X_train_tfidf, y_train)\n",
    "\n",
    "# Make predictions on the testing data\n",
    "y_pred_voting = voting_classifier.predict(X_test_tfidf)\n",
    "\n",
    "# Evaluate the voting ensemble\n",
    "accuracy_voting = accuracy_score(y_test, y_pred_voting)\n",
    "print(\"Voting Ensemble Accuracy:\", accuracy_voting)\n",
    "print(\"Voting Ensemble Classification Report:\")\n",
    "print(classification_report(y_test, y_pred_voting))\n"
   ]
  },
  {
   "cell_type": "markdown",
   "metadata": {},
   "source": [
    "---\n",
    "---\n",
    "### **FINAL RESULT**\n",
    "---\n",
    "---"
   ]
  },
  {
   "cell_type": "code",
   "execution_count": 24,
   "metadata": {},
   "outputs": [
    {
     "name": "stdout",
     "output_type": "stream",
     "text": [
      "Accuracy score for LinearSVM model tuned 0.8670886075949367\n",
      "Accuracy score for SVC with Polynomial Kernel model tuned 0.819620253164557\n",
      "Accuracy score for SVC with RBF Kernel tuned 0.8481012658227848\n",
      "Accuracy score for SVC with sigmoid Kernel tuned 0.8575949367088608\n",
      "Accuracy score for SVC with linear Kernel tuned 0.8575949367088608\n",
      "Accuracy score for Ensamble Model 0.8639240506329114\n"
     ]
    }
   ],
   "source": [
    "print(\"Accuracy score for LinearSVM model tuned\", accuracy_score(y_test, y_pred_svm_tuned))\n",
    "print(\"Accuracy score for SVC with Polynomial Kernel model tuned\", accuracy_score(y_test, y_pred_poly_tuned))\n",
    "print(\"Accuracy score for SVC with RBF Kernel tuned\", accuracy_score(y_test, y_pred_rbf_tuned))\n",
    "print(\"Accuracy score for SVC with sigmoid Kernel tuned\", accuracy_score(y_test, y_pred_sig_tuned))\n",
    "print(\"Accuracy score for SVC with linear Kernel tuned\", accuracy_score(y_test, y_pred_lin_tuned))\n",
    "print(\"Accuracy score for Ensamble Model\", accuracy_score(y_test, y_pred_voting))"
   ]
  },
  {
   "cell_type": "markdown",
   "metadata": {},
   "source": [
    "---\n",
    "---\n",
    "#  **END OF CODE** \n",
    "---\n",
    "---"
   ]
  }
 ],
 "metadata": {
  "kernelspec": {
   "display_name": "Python 3",
   "language": "python",
   "name": "python3"
  },
  "language_info": {
   "codemirror_mode": {
    "name": "ipython",
    "version": 3
   },
   "file_extension": ".py",
   "mimetype": "text/x-python",
   "name": "python",
   "nbconvert_exporter": "python",
   "pygments_lexer": "ipython3",
   "version": "3.12.3"
  }
 },
 "nbformat": 4,
 "nbformat_minor": 2
}
